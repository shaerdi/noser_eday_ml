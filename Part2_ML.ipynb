{
 "cells": [
  {
   "cell_type": "markdown",
   "metadata": {},
   "source": [
    "# Python ML Hands-On - Part 2\n",
    "\n",
    "Dieses Notebook gehört zum Vortrag \"Python ML Hands-On\" an den Noser E-Days.\n",
    "\n",
    "Ziel des Notebooks ist die Demonstration von Machine Learning in Python mit der Bibliothek Scikit-Learn.\n",
    "Als Datengrundlage wird die in Part 1 bereinigte Tabelle mit durchschnittlichen Mietpreisen von Wohnungen sortiert nach Kanton und Anzahl Zimmern verwendet."
   ]
  },
  {
   "cell_type": "code",
   "execution_count": 1,
   "metadata": {},
   "outputs": [],
   "source": [
    "# Importieren der benötigten Bibliotheken (module)\n",
    "import pandas as pd\n",
    "import numpy as np\n",
    "import sklearn  # scikit-learn\n",
    "import matplotlib.pyplot as plt\n",
    "import seaborn as sns\n",
    "\n",
    "sns.set_context('talk')"
   ]
  },
  {
   "cell_type": "markdown",
   "metadata": {},
   "source": [
    "Die Daten werden aus dem CSV eingelesen:"
   ]
  },
  {
   "cell_type": "code",
   "execution_count": 2,
   "metadata": {},
   "outputs": [
    {
     "data": {
      "text/html": [
       "<div>\n",
       "<style scoped>\n",
       "    .dataframe tbody tr th:only-of-type {\n",
       "        vertical-align: middle;\n",
       "    }\n",
       "\n",
       "    .dataframe tbody tr th {\n",
       "        vertical-align: top;\n",
       "    }\n",
       "\n",
       "    .dataframe thead th {\n",
       "        text-align: right;\n",
       "    }\n",
       "</style>\n",
       "<table border=\"1\" class=\"dataframe\">\n",
       "  <thead>\n",
       "    <tr style=\"text-align: right;\">\n",
       "      <th></th>\n",
       "      <th>Total</th>\n",
       "      <th>1</th>\n",
       "      <th>2</th>\n",
       "      <th>3</th>\n",
       "      <th>4</th>\n",
       "      <th>5</th>\n",
       "      <th>6+</th>\n",
       "    </tr>\n",
       "    <tr>\n",
       "      <th>Kanton</th>\n",
       "      <th></th>\n",
       "      <th></th>\n",
       "      <th></th>\n",
       "      <th></th>\n",
       "      <th></th>\n",
       "      <th></th>\n",
       "      <th></th>\n",
       "    </tr>\n",
       "  </thead>\n",
       "  <tbody>\n",
       "    <tr>\n",
       "      <th>Schweiz</th>\n",
       "      <td>1362</td>\n",
       "      <td>794.0</td>\n",
       "      <td>1101</td>\n",
       "      <td>1317</td>\n",
       "      <td>1574</td>\n",
       "      <td>1910</td>\n",
       "      <td>2360</td>\n",
       "    </tr>\n",
       "    <tr>\n",
       "      <th>Zürich</th>\n",
       "      <td>1592</td>\n",
       "      <td>951.0</td>\n",
       "      <td>1339</td>\n",
       "      <td>1538</td>\n",
       "      <td>1835</td>\n",
       "      <td>2253</td>\n",
       "      <td>2907</td>\n",
       "    </tr>\n",
       "    <tr>\n",
       "      <th>Bern</th>\n",
       "      <td>1223</td>\n",
       "      <td>702.0</td>\n",
       "      <td>988</td>\n",
       "      <td>1187</td>\n",
       "      <td>1417</td>\n",
       "      <td>1691</td>\n",
       "      <td>2079</td>\n",
       "    </tr>\n",
       "    <tr>\n",
       "      <th>Luzern</th>\n",
       "      <td>1368</td>\n",
       "      <td>757.0</td>\n",
       "      <td>1073</td>\n",
       "      <td>1315</td>\n",
       "      <td>1509</td>\n",
       "      <td>1849</td>\n",
       "      <td>2145</td>\n",
       "    </tr>\n",
       "    <tr>\n",
       "      <th>Uri</th>\n",
       "      <td>1210</td>\n",
       "      <td>NaN</td>\n",
       "      <td>846</td>\n",
       "      <td>1166</td>\n",
       "      <td>1329</td>\n",
       "      <td>1541</td>\n",
       "      <td>1745</td>\n",
       "    </tr>\n",
       "  </tbody>\n",
       "</table>\n",
       "</div>"
      ],
      "text/plain": [
       "         Total      1     2     3     4     5    6+\n",
       "Kanton                                             \n",
       "Schweiz   1362  794.0  1101  1317  1574  1910  2360\n",
       "Zürich    1592  951.0  1339  1538  1835  2253  2907\n",
       "Bern      1223  702.0   988  1187  1417  1691  2079\n",
       "Luzern    1368  757.0  1073  1315  1509  1849  2145\n",
       "Uri       1210    NaN   846  1166  1329  1541  1745"
      ]
     },
     "execution_count": 2,
     "metadata": {},
     "output_type": "execute_result"
    }
   ],
   "source": [
    "data_path = './mietpreis.csv'\n",
    "data = pd.read_csv(data_path, index_col=0)  # Die erste Spalte wird als Index verwendet\n",
    "data.head()"
   ]
  },
  {
   "cell_type": "markdown",
   "metadata": {},
   "source": [
    "Als erstes werden die Daten visuell dargestellt, um einen Eindruck zu erhalten. Dazu wird die Bibliothek seaborn verwendet, die ein auf die Darstellung von statistischen Daten angepasstes Interface zu Matplotlib zur Verfügung stellt."
   ]
  },
  {
   "cell_type": "code",
   "execution_count": 3,
   "metadata": {},
   "outputs": [
    {
     "data": {
      "text/plain": [
       "<seaborn.axisgrid.FacetGrid at 0x2268ea752e0>"
      ]
     },
     "execution_count": 3,
     "metadata": {},
     "output_type": "execute_result"
    },
    {
     "data": {
      "image/png": "[encoded data removed]",
      "text/plain": [
       "<Figure size 360x360 with 1 Axes>"
      ]
     },
     "metadata": {
      "needs_background": "light"
     },
     "output_type": "display_data"
    }
   ],
   "source": [
    "plot = sns.catplot(data=data)\n",
    "plot.set_axis_labels('Anzahl Zimmer', 'Preis in CHF / Monat')"
   ]
  },
  {
   "cell_type": "markdown",
   "metadata": {},
   "source": [
    "Auf dem Plot zu sehen ist die Verteilung des Mietpreises, sortiert nach Anzahl Zimmer. Dabei sind grössere Wohungen (erwarteterweise) teurer als kleine."
   ]
  },
  {
   "cell_type": "code",
   "execution_count": 4,
   "metadata": {},
   "outputs": [
    {
     "data": {
      "text/plain": [
       "<seaborn.axisgrid.FacetGrid at 0x226dd7532b0>"
      ]
     },
     "execution_count": 4,
     "metadata": {},
     "output_type": "execute_result"
    },
    {
     "data": {
      "image/png": "[encoded data removed]",
      "text/plain": [
       "<Figure size 360x360 with 1 Axes>"
      ]
     },
     "metadata": {
      "needs_background": "light"
     },
     "output_type": "display_data"
    }
   ],
   "source": [
    "plot = sns.catplot(data=data, kind='box')\n",
    "plot.set_axis_labels('Anzahl Zimmer', 'Preis in CHF / Monat')"
   ]
  },
  {
   "cell_type": "markdown",
   "metadata": {},
   "source": [
    "Machine Learning\n",
    "================\n",
    "Ein erstes Ziel ist es, die Anzahl Zimmer anhand des Mietpreises zu bestimmen.\n",
    "\n",
    "Dafür braucht es ein 'Classification'-Model. So ein Modell ermittelt für verschiedene Klassen (hier: Anzahl Zimmer) die Wahrscheinlichkeit anhand von Features ab und bestimmt dann die Klasse mit der höchsten Wahrscheinlichkeit als Resultat.\n",
    "Eines der simplesten Modelle ist die logistische Regression.\n",
    "\n"
   ]
  },
  {
   "cell_type": "code",
   "execution_count": 5,
   "metadata": {},
   "outputs": [],
   "source": [
    "from sklearn.linear_model import LogisticRegression"
   ]
  },
  {
   "cell_type": "markdown",
   "metadata": {},
   "source": [
    "Als Datensatz X wird dabei der durchschnittliche Mietpreis aller Kantone verwendet, und die Anzahl Zimmer ist das zu ermittelnde Resultat ``y``. Sklearn erwartet die Daten in einer Tabelle, mit dem Feature ``X`` in einer Spalte und dem Resultat ``y`` in einer anderen Spalte.\n",
    "Das kann sehr einfach mit Pandas ``melt`` erreicht werden."
   ]
  },
  {
   "cell_type": "code",
   "execution_count": 6,
   "metadata": {},
   "outputs": [
    {
     "data": {
      "text/html": [
       "<div>\n",
       "<style scoped>\n",
       "    .dataframe tbody tr th:only-of-type {\n",
       "        vertical-align: middle;\n",
       "    }\n",
       "\n",
       "    .dataframe tbody tr th {\n",
       "        vertical-align: top;\n",
       "    }\n",
       "\n",
       "    .dataframe thead th {\n",
       "        text-align: right;\n",
       "    }\n",
       "</style>\n",
       "<table border=\"1\" class=\"dataframe\">\n",
       "  <thead>\n",
       "    <tr style=\"text-align: right;\">\n",
       "      <th></th>\n",
       "      <th>variable</th>\n",
       "      <th>value</th>\n",
       "    </tr>\n",
       "  </thead>\n",
       "  <tbody>\n",
       "    <tr>\n",
       "      <th>0</th>\n",
       "      <td>1</td>\n",
       "      <td>794.0</td>\n",
       "    </tr>\n",
       "    <tr>\n",
       "      <th>1</th>\n",
       "      <td>1</td>\n",
       "      <td>951.0</td>\n",
       "    </tr>\n",
       "    <tr>\n",
       "      <th>2</th>\n",
       "      <td>1</td>\n",
       "      <td>702.0</td>\n",
       "    </tr>\n",
       "    <tr>\n",
       "      <th>3</th>\n",
       "      <td>1</td>\n",
       "      <td>757.0</td>\n",
       "    </tr>\n",
       "    <tr>\n",
       "      <th>4</th>\n",
       "      <td>1</td>\n",
       "      <td>NaN</td>\n",
       "    </tr>\n",
       "    <tr>\n",
       "      <th>...</th>\n",
       "      <td>...</td>\n",
       "      <td>...</td>\n",
       "    </tr>\n",
       "    <tr>\n",
       "      <th>157</th>\n",
       "      <td>6+</td>\n",
       "      <td>2799.0</td>\n",
       "    </tr>\n",
       "    <tr>\n",
       "      <th>158</th>\n",
       "      <td>6+</td>\n",
       "      <td>1874.0</td>\n",
       "    </tr>\n",
       "    <tr>\n",
       "      <th>159</th>\n",
       "      <td>6+</td>\n",
       "      <td>2034.0</td>\n",
       "    </tr>\n",
       "    <tr>\n",
       "      <th>160</th>\n",
       "      <td>6+</td>\n",
       "      <td>2644.0</td>\n",
       "    </tr>\n",
       "    <tr>\n",
       "      <th>161</th>\n",
       "      <td>6+</td>\n",
       "      <td>1534.0</td>\n",
       "    </tr>\n",
       "  </tbody>\n",
       "</table>\n",
       "<p>162 rows × 2 columns</p>\n",
       "</div>"
      ],
      "text/plain": [
       "    variable   value\n",
       "0          1   794.0\n",
       "1          1   951.0\n",
       "2          1   702.0\n",
       "3          1   757.0\n",
       "4          1     NaN\n",
       "..       ...     ...\n",
       "157       6+  2799.0\n",
       "158       6+  1874.0\n",
       "159       6+  2034.0\n",
       "160       6+  2644.0\n",
       "161       6+  1534.0\n",
       "\n",
       "[162 rows x 2 columns]"
      ]
     },
     "execution_count": 6,
     "metadata": {},
     "output_type": "execute_result"
    }
   ],
   "source": [
    "mietpreis_data = data.drop(columns='Total').melt()\n",
    "mietpreis_data"
   ]
  },
  {
   "cell_type": "markdown",
   "metadata": {},
   "source": [
    "Es sind noch fehlende Werte vorhanden, diese lassen wir einfach weg und Teilen danach die Spalten auf. Wir haben aktuell nur ein Feature (den Preis), sklearn erwartet aber trotzdem einen Spaltenvektor, deshalb wird noch ein reshape aufgerufen"
   ]
  },
  {
   "cell_type": "code",
   "execution_count": 7,
   "metadata": {},
   "outputs": [],
   "source": [
    "mietpreis_data = mietpreis_data.dropna()\n",
    "X, y = mietpreis_data['value'].values, mietpreis_data['variable'].values\n",
    "X = X.reshape((-1,1))"
   ]
  },
  {
   "cell_type": "markdown",
   "metadata": {},
   "source": [
    "Für einen ersten Test verwenden wir alle Daten um das Modell zu trainieren"
   ]
  },
  {
   "cell_type": "code",
   "execution_count": 8,
   "metadata": {},
   "outputs": [
    {
     "data": {
      "text/plain": [
       "LogisticRegression()"
      ]
     },
     "execution_count": 8,
     "metadata": {},
     "output_type": "execute_result"
    }
   ],
   "source": [
    "model = LogisticRegression()\n",
    "model.fit(X, y)"
   ]
  },
  {
   "cell_type": "code",
   "execution_count": 9,
   "metadata": {},
   "outputs": [
    {
     "name": "stdout",
     "output_type": "stream",
     "text": [
      "Price: 1000 => predicted number of rooms: 2\n",
      "Price: 2000 => predicted number of rooms: 6+\n",
      "Price: 1250 => predicted number of rooms: 3\n"
     ]
    }
   ],
   "source": [
    "price_to_predict = np.array([1000,2000,1250]).reshape((-1,1))\n",
    "results = model.predict(price_to_predict)\n",
    "for price, result in zip(price_to_predict.flatten(), results):\n",
    "    print(f'Price: {price} => predicted number of rooms: {result}')"
   ]
  },
  {
   "cell_type": "markdown",
   "metadata": {},
   "source": [
    "Erweitern des Modells\n",
    "=====================\n",
    "Zusätzlich zum Mietpreis kann auch noch die Information über die Wohnfläche als Information mit einbezogen werden."
   ]
  },
  {
   "cell_type": "code",
   "execution_count": 10,
   "metadata": {},
   "outputs": [
    {
     "data": {
      "text/html": [
       "<div>\n",
       "<style scoped>\n",
       "    .dataframe tbody tr th:only-of-type {\n",
       "        vertical-align: middle;\n",
       "    }\n",
       "\n",
       "    .dataframe tbody tr th {\n",
       "        vertical-align: top;\n",
       "    }\n",
       "\n",
       "    .dataframe thead th {\n",
       "        text-align: right;\n",
       "    }\n",
       "</style>\n",
       "<table border=\"1\" class=\"dataframe\">\n",
       "  <thead>\n",
       "    <tr style=\"text-align: right;\">\n",
       "      <th></th>\n",
       "      <th>Total</th>\n",
       "      <th>1</th>\n",
       "      <th>2</th>\n",
       "      <th>3</th>\n",
       "      <th>4</th>\n",
       "      <th>5</th>\n",
       "      <th>6+</th>\n",
       "    </tr>\n",
       "    <tr>\n",
       "      <th>Kanton</th>\n",
       "      <th></th>\n",
       "      <th></th>\n",
       "      <th></th>\n",
       "      <th></th>\n",
       "      <th></th>\n",
       "      <th></th>\n",
       "      <th></th>\n",
       "    </tr>\n",
       "  </thead>\n",
       "  <tbody>\n",
       "    <tr>\n",
       "      <th>Schweiz</th>\n",
       "      <td>99.1</td>\n",
       "      <td>36.0</td>\n",
       "      <td>57.8</td>\n",
       "      <td>79.8</td>\n",
       "      <td>106.0</td>\n",
       "      <td>137.9</td>\n",
       "      <td>177.6</td>\n",
       "    </tr>\n",
       "    <tr>\n",
       "      <th>Zürich</th>\n",
       "      <td>97.2</td>\n",
       "      <td>38.5</td>\n",
       "      <td>60.5</td>\n",
       "      <td>80.3</td>\n",
       "      <td>105.7</td>\n",
       "      <td>139.3</td>\n",
       "      <td>183.0</td>\n",
       "    </tr>\n",
       "    <tr>\n",
       "      <th>Bern</th>\n",
       "      <td>95.4</td>\n",
       "      <td>33.9</td>\n",
       "      <td>56.2</td>\n",
       "      <td>77.8</td>\n",
       "      <td>103.2</td>\n",
       "      <td>134.0</td>\n",
       "      <td>169.3</td>\n",
       "    </tr>\n",
       "    <tr>\n",
       "      <th>Luzern</th>\n",
       "      <td>104.0</td>\n",
       "      <td>34.8</td>\n",
       "      <td>57.7</td>\n",
       "      <td>81.3</td>\n",
       "      <td>105.3</td>\n",
       "      <td>138.3</td>\n",
       "      <td>172.9</td>\n",
       "    </tr>\n",
       "    <tr>\n",
       "      <th>Uri</th>\n",
       "      <td>101.8</td>\n",
       "      <td>30.6</td>\n",
       "      <td>53.6</td>\n",
       "      <td>78.7</td>\n",
       "      <td>100.2</td>\n",
       "      <td>130.0</td>\n",
       "      <td>162.4</td>\n",
       "    </tr>\n",
       "  </tbody>\n",
       "</table>\n",
       "</div>"
      ],
      "text/plain": [
       "         Total     1     2     3      4      5     6+\n",
       "Kanton                                               \n",
       "Schweiz   99.1  36.0  57.8  79.8  106.0  137.9  177.6\n",
       "Zürich    97.2  38.5  60.5  80.3  105.7  139.3  183.0\n",
       "Bern      95.4  33.9  56.2  77.8  103.2  134.0  169.3\n",
       "Luzern   104.0  34.8  57.7  81.3  105.3  138.3  172.9\n",
       "Uri      101.8  30.6  53.6  78.7  100.2  130.0  162.4"
      ]
     },
     "execution_count": 10,
     "metadata": {},
     "output_type": "execute_result"
    }
   ],
   "source": [
    "data = pd.read_csv('./wohnflaeche.csv', index_col=0)\n",
    "data.head()"
   ]
  },
  {
   "cell_type": "markdown",
   "metadata": {},
   "source": [
    "Damit wird die gleiche Transformation wie mit dem Mietpreis vorgenommen"
   ]
  },
  {
   "cell_type": "code",
   "execution_count": 11,
   "metadata": {},
   "outputs": [
    {
     "data": {
      "text/html": [
       "<div>\n",
       "<style scoped>\n",
       "    .dataframe tbody tr th:only-of-type {\n",
       "        vertical-align: middle;\n",
       "    }\n",
       "\n",
       "    .dataframe tbody tr th {\n",
       "        vertical-align: top;\n",
       "    }\n",
       "\n",
       "    .dataframe thead th {\n",
       "        text-align: right;\n",
       "    }\n",
       "</style>\n",
       "<table border=\"1\" class=\"dataframe\">\n",
       "  <thead>\n",
       "    <tr style=\"text-align: right;\">\n",
       "      <th></th>\n",
       "      <th>variable</th>\n",
       "      <th>value</th>\n",
       "    </tr>\n",
       "  </thead>\n",
       "  <tbody>\n",
       "    <tr>\n",
       "      <th>0</th>\n",
       "      <td>1</td>\n",
       "      <td>36.0</td>\n",
       "    </tr>\n",
       "    <tr>\n",
       "      <th>1</th>\n",
       "      <td>1</td>\n",
       "      <td>38.5</td>\n",
       "    </tr>\n",
       "    <tr>\n",
       "      <th>2</th>\n",
       "      <td>1</td>\n",
       "      <td>33.9</td>\n",
       "    </tr>\n",
       "    <tr>\n",
       "      <th>3</th>\n",
       "      <td>1</td>\n",
       "      <td>34.8</td>\n",
       "    </tr>\n",
       "    <tr>\n",
       "      <th>4</th>\n",
       "      <td>1</td>\n",
       "      <td>30.6</td>\n",
       "    </tr>\n",
       "    <tr>\n",
       "      <th>...</th>\n",
       "      <td>...</td>\n",
       "      <td>...</td>\n",
       "    </tr>\n",
       "    <tr>\n",
       "      <th>157</th>\n",
       "      <td>6+</td>\n",
       "      <td>190.7</td>\n",
       "    </tr>\n",
       "    <tr>\n",
       "      <th>158</th>\n",
       "      <td>6+</td>\n",
       "      <td>177.6</td>\n",
       "    </tr>\n",
       "    <tr>\n",
       "      <th>159</th>\n",
       "      <td>6+</td>\n",
       "      <td>173.0</td>\n",
       "    </tr>\n",
       "    <tr>\n",
       "      <th>160</th>\n",
       "      <td>6+</td>\n",
       "      <td>189.6</td>\n",
       "    </tr>\n",
       "    <tr>\n",
       "      <th>161</th>\n",
       "      <td>6+</td>\n",
       "      <td>160.4</td>\n",
       "    </tr>\n",
       "  </tbody>\n",
       "</table>\n",
       "<p>162 rows × 2 columns</p>\n",
       "</div>"
      ],
      "text/plain": [
       "    variable  value\n",
       "0          1   36.0\n",
       "1          1   38.5\n",
       "2          1   33.9\n",
       "3          1   34.8\n",
       "4          1   30.6\n",
       "..       ...    ...\n",
       "157       6+  190.7\n",
       "158       6+  177.6\n",
       "159       6+  173.0\n",
       "160       6+  189.6\n",
       "161       6+  160.4\n",
       "\n",
       "[162 rows x 2 columns]"
      ]
     },
     "execution_count": 11,
     "metadata": {},
     "output_type": "execute_result"
    }
   ],
   "source": [
    "wohnflaeche_data = data.drop(columns='Total').melt()\n",
    "wohnflaeche_data "
   ]
  },
  {
   "cell_type": "markdown",
   "metadata": {},
   "source": [
    "Anschliessend werden die Daten zusammengeführt:"
   ]
  },
  {
   "cell_type": "code",
   "execution_count": 12,
   "metadata": {},
   "outputs": [
    {
     "data": {
      "text/html": [
       "<div>\n",
       "<style scoped>\n",
       "    .dataframe tbody tr th:only-of-type {\n",
       "        vertical-align: middle;\n",
       "    }\n",
       "\n",
       "    .dataframe tbody tr th {\n",
       "        vertical-align: top;\n",
       "    }\n",
       "\n",
       "    .dataframe thead th {\n",
       "        text-align: right;\n",
       "    }\n",
       "</style>\n",
       "<table border=\"1\" class=\"dataframe\">\n",
       "  <thead>\n",
       "    <tr style=\"text-align: right;\">\n",
       "      <th></th>\n",
       "      <th>variable</th>\n",
       "      <th>value</th>\n",
       "      <th>variable_miet_data</th>\n",
       "      <th>value_miet_data</th>\n",
       "    </tr>\n",
       "  </thead>\n",
       "  <tbody>\n",
       "    <tr>\n",
       "      <th>0</th>\n",
       "      <td>1</td>\n",
       "      <td>36.0</td>\n",
       "      <td>1</td>\n",
       "      <td>794.0</td>\n",
       "    </tr>\n",
       "    <tr>\n",
       "      <th>1</th>\n",
       "      <td>1</td>\n",
       "      <td>38.5</td>\n",
       "      <td>1</td>\n",
       "      <td>951.0</td>\n",
       "    </tr>\n",
       "    <tr>\n",
       "      <th>2</th>\n",
       "      <td>1</td>\n",
       "      <td>33.9</td>\n",
       "      <td>1</td>\n",
       "      <td>702.0</td>\n",
       "    </tr>\n",
       "    <tr>\n",
       "      <th>3</th>\n",
       "      <td>1</td>\n",
       "      <td>34.8</td>\n",
       "      <td>1</td>\n",
       "      <td>757.0</td>\n",
       "    </tr>\n",
       "    <tr>\n",
       "      <th>5</th>\n",
       "      <td>1</td>\n",
       "      <td>34.4</td>\n",
       "      <td>1</td>\n",
       "      <td>744.0</td>\n",
       "    </tr>\n",
       "    <tr>\n",
       "      <th>...</th>\n",
       "      <td>...</td>\n",
       "      <td>...</td>\n",
       "      <td>...</td>\n",
       "      <td>...</td>\n",
       "    </tr>\n",
       "    <tr>\n",
       "      <th>157</th>\n",
       "      <td>6+</td>\n",
       "      <td>190.7</td>\n",
       "      <td>6+</td>\n",
       "      <td>2799.0</td>\n",
       "    </tr>\n",
       "    <tr>\n",
       "      <th>158</th>\n",
       "      <td>6+</td>\n",
       "      <td>177.6</td>\n",
       "      <td>6+</td>\n",
       "      <td>1874.0</td>\n",
       "    </tr>\n",
       "    <tr>\n",
       "      <th>159</th>\n",
       "      <td>6+</td>\n",
       "      <td>173.0</td>\n",
       "      <td>6+</td>\n",
       "      <td>2034.0</td>\n",
       "    </tr>\n",
       "    <tr>\n",
       "      <th>160</th>\n",
       "      <td>6+</td>\n",
       "      <td>189.6</td>\n",
       "      <td>6+</td>\n",
       "      <td>2644.0</td>\n",
       "    </tr>\n",
       "    <tr>\n",
       "      <th>161</th>\n",
       "      <td>6+</td>\n",
       "      <td>160.4</td>\n",
       "      <td>6+</td>\n",
       "      <td>1534.0</td>\n",
       "    </tr>\n",
       "  </tbody>\n",
       "</table>\n",
       "<p>160 rows × 4 columns</p>\n",
       "</div>"
      ],
      "text/plain": [
       "    variable  value variable_miet_data  value_miet_data\n",
       "0          1   36.0                  1            794.0\n",
       "1          1   38.5                  1            951.0\n",
       "2          1   33.9                  1            702.0\n",
       "3          1   34.8                  1            757.0\n",
       "5          1   34.4                  1            744.0\n",
       "..       ...    ...                ...              ...\n",
       "157       6+  190.7                 6+           2799.0\n",
       "158       6+  177.6                 6+           1874.0\n",
       "159       6+  173.0                 6+           2034.0\n",
       "160       6+  189.6                 6+           2644.0\n",
       "161       6+  160.4                 6+           1534.0\n",
       "\n",
       "[160 rows x 4 columns]"
      ]
     },
     "execution_count": 12,
     "metadata": {},
     "output_type": "execute_result"
    }
   ],
   "source": [
    "erweiterte_daten = wohnflaeche_data.join(mietpreis_data, rsuffix='_miet_data').dropna()\n",
    "erweiterte_daten"
   ]
  },
  {
   "cell_type": "code",
   "execution_count": 13,
   "metadata": {},
   "outputs": [
    {
     "data": {
      "text/html": [
       "<div>\n",
       "<style scoped>\n",
       "    .dataframe tbody tr th:only-of-type {\n",
       "        vertical-align: middle;\n",
       "    }\n",
       "\n",
       "    .dataframe tbody tr th {\n",
       "        vertical-align: top;\n",
       "    }\n",
       "\n",
       "    .dataframe thead th {\n",
       "        text-align: right;\n",
       "    }\n",
       "</style>\n",
       "<table border=\"1\" class=\"dataframe\">\n",
       "  <thead>\n",
       "    <tr style=\"text-align: right;\">\n",
       "      <th></th>\n",
       "      <th>zimmer</th>\n",
       "      <th>flaeche</th>\n",
       "      <th>mietpreis</th>\n",
       "    </tr>\n",
       "  </thead>\n",
       "  <tbody>\n",
       "    <tr>\n",
       "      <th>0</th>\n",
       "      <td>1</td>\n",
       "      <td>36.0</td>\n",
       "      <td>794.0</td>\n",
       "    </tr>\n",
       "    <tr>\n",
       "      <th>1</th>\n",
       "      <td>1</td>\n",
       "      <td>38.5</td>\n",
       "      <td>951.0</td>\n",
       "    </tr>\n",
       "    <tr>\n",
       "      <th>2</th>\n",
       "      <td>1</td>\n",
       "      <td>33.9</td>\n",
       "      <td>702.0</td>\n",
       "    </tr>\n",
       "    <tr>\n",
       "      <th>3</th>\n",
       "      <td>1</td>\n",
       "      <td>34.8</td>\n",
       "      <td>757.0</td>\n",
       "    </tr>\n",
       "    <tr>\n",
       "      <th>5</th>\n",
       "      <td>1</td>\n",
       "      <td>34.4</td>\n",
       "      <td>744.0</td>\n",
       "    </tr>\n",
       "    <tr>\n",
       "      <th>...</th>\n",
       "      <td>...</td>\n",
       "      <td>...</td>\n",
       "      <td>...</td>\n",
       "    </tr>\n",
       "    <tr>\n",
       "      <th>157</th>\n",
       "      <td>6+</td>\n",
       "      <td>190.7</td>\n",
       "      <td>2799.0</td>\n",
       "    </tr>\n",
       "    <tr>\n",
       "      <th>158</th>\n",
       "      <td>6+</td>\n",
       "      <td>177.6</td>\n",
       "      <td>1874.0</td>\n",
       "    </tr>\n",
       "    <tr>\n",
       "      <th>159</th>\n",
       "      <td>6+</td>\n",
       "      <td>173.0</td>\n",
       "      <td>2034.0</td>\n",
       "    </tr>\n",
       "    <tr>\n",
       "      <th>160</th>\n",
       "      <td>6+</td>\n",
       "      <td>189.6</td>\n",
       "      <td>2644.0</td>\n",
       "    </tr>\n",
       "    <tr>\n",
       "      <th>161</th>\n",
       "      <td>6+</td>\n",
       "      <td>160.4</td>\n",
       "      <td>1534.0</td>\n",
       "    </tr>\n",
       "  </tbody>\n",
       "</table>\n",
       "<p>160 rows × 3 columns</p>\n",
       "</div>"
      ],
      "text/plain": [
       "    zimmer  flaeche  mietpreis\n",
       "0        1     36.0      794.0\n",
       "1        1     38.5      951.0\n",
       "2        1     33.9      702.0\n",
       "3        1     34.8      757.0\n",
       "5        1     34.4      744.0\n",
       "..     ...      ...        ...\n",
       "157     6+    190.7     2799.0\n",
       "158     6+    177.6     1874.0\n",
       "159     6+    173.0     2034.0\n",
       "160     6+    189.6     2644.0\n",
       "161     6+    160.4     1534.0\n",
       "\n",
       "[160 rows x 3 columns]"
      ]
     },
     "execution_count": 13,
     "metadata": {},
     "output_type": "execute_result"
    }
   ],
   "source": [
    "erweiterte_daten = erweiterte_daten.drop(columns='variable_miet_data').rename(columns={'variable': 'zimmer', 'value': 'flaeche', 'value_miet_data': 'mietpreis'})\n",
    "erweiterte_daten"
   ]
  },
  {
   "cell_type": "markdown",
   "metadata": {},
   "source": [
    "Jetzt kann wieder ein Modell trainiert werden:"
   ]
  },
  {
   "cell_type": "code",
   "execution_count": 14,
   "metadata": {},
   "outputs": [
    {
     "name": "stderr",
     "output_type": "stream",
     "text": [
      "c:\\users\\simon.haerdi\\documents\\pythonproject\\edays\\.venv\\lib\\site-packages\\sklearn\\linear_model\\_logistic.py:763: ConvergenceWarning: lbfgs failed to converge (status=1):\n",
      "STOP: TOTAL NO. of ITERATIONS REACHED LIMIT.\n",
      "\n",
      "Increase the number of iterations (max_iter) or scale the data as shown in:\n",
      "    https://scikit-learn.org/stable/modules/preprocessing.html\n",
      "Please also refer to the documentation for alternative solver options:\n",
      "    https://scikit-learn.org/stable/modules/linear_model.html#logistic-regression\n",
      "  n_iter_i = _check_optimize_result(\n"
     ]
    },
    {
     "data": {
      "text/plain": [
       "LogisticRegression()"
      ]
     },
     "execution_count": 14,
     "metadata": {},
     "output_type": "execute_result"
    }
   ],
   "source": [
    "model_with_two_features = LogisticRegression()\n",
    "X = erweiterte_daten[['flaeche', 'mietpreis']]\n",
    "y = erweiterte_daten['zimmer']\n",
    "model_with_two_features.fit(X,y)\n"
   ]
  },
  {
   "cell_type": "markdown",
   "metadata": {},
   "source": [
    "Hier ist offenbar etwas schief gegangen, der Optimierer konnte keine Lösung finden. Das liegt an den unterschiedlichen Grössenordnungen der Variablen. Die Lösung dafür ist, die Features zuerst zu skalieren:"
   ]
  },
  {
   "cell_type": "code",
   "execution_count": 15,
   "metadata": {},
   "outputs": [
    {
     "name": "stdout",
     "output_type": "stream",
     "text": [
      "[[-1.33106376 -1.15852264]\n",
      " [-1.27853093 -0.86364176]\n",
      " [-1.37519134 -1.33131907]\n",
      " [-1.35627952 -1.22801686]\n",
      " [-1.36468477 -1.25243374]\n",
      " [-1.4319268  -1.53604529]\n",
      " [-1.38779922 -1.40456974]\n",
      " [-1.34787427 -1.64122573]\n",
      " [-1.37098871 -0.9688222 ]\n",
      " [-1.43612942 -1.34822307]]\n"
     ]
    }
   ],
   "source": [
    "from sklearn import preprocessing\n",
    "scaler = preprocessing.StandardScaler()\n",
    "X = scaler.fit_transform(X)\n",
    "print(X[:10,:])"
   ]
  },
  {
   "cell_type": "markdown",
   "metadata": {},
   "source": [
    "Jetzt klappt auch das trainieren des Modells:"
   ]
  },
  {
   "cell_type": "code",
   "execution_count": 16,
   "metadata": {},
   "outputs": [
    {
     "data": {
      "text/plain": [
       "LogisticRegression()"
      ]
     },
     "execution_count": 16,
     "metadata": {},
     "output_type": "execute_result"
    }
   ],
   "source": [
    "model_with_two_features.fit(X,y)"
   ]
  },
  {
   "cell_type": "markdown",
   "metadata": {},
   "source": [
    "Anschliessend kann das Modell wieder verwendet werden, um für eine fiktive Wohnung die Anzahl Zimmer vorherzusagen:"
   ]
  },
  {
   "cell_type": "code",
   "execution_count": 17,
   "metadata": {},
   "outputs": [
    {
     "data": {
      "text/html": [
       "<div>\n",
       "<style scoped>\n",
       "    .dataframe tbody tr th:only-of-type {\n",
       "        vertical-align: middle;\n",
       "    }\n",
       "\n",
       "    .dataframe tbody tr th {\n",
       "        vertical-align: top;\n",
       "    }\n",
       "\n",
       "    .dataframe thead th {\n",
       "        text-align: right;\n",
       "    }\n",
       "</style>\n",
       "<table border=\"1\" class=\"dataframe\">\n",
       "  <thead>\n",
       "    <tr style=\"text-align: right;\">\n",
       "      <th></th>\n",
       "      <th>flaeche</th>\n",
       "      <th>mietpreis</th>\n",
       "    </tr>\n",
       "  </thead>\n",
       "  <tbody>\n",
       "    <tr>\n",
       "      <th>0</th>\n",
       "      <td>50.9</td>\n",
       "      <td>1000</td>\n",
       "    </tr>\n",
       "  </tbody>\n",
       "</table>\n",
       "</div>"
      ],
      "text/plain": [
       "   flaeche  mietpreis\n",
       "0     50.9       1000"
      ]
     },
     "execution_count": 17,
     "metadata": {},
     "output_type": "execute_result"
    }
   ],
   "source": [
    "to_predict = pd.DataFrame.from_dict({\n",
    "    'flaeche': [50.9], 'mietpreis':[1000]\n",
    "})\n",
    "to_predict"
   ]
  },
  {
   "cell_type": "code",
   "execution_count": 18,
   "metadata": {},
   "outputs": [
    {
     "name": "stdout",
     "output_type": "stream",
     "text": [
      "Resultat: 6+ Zimmer\n"
     ]
    }
   ],
   "source": [
    "result = model_with_two_features.predict(to_predict)\n",
    "print(f'Resultat: {result[0]} Zimmer')"
   ]
  },
  {
   "cell_type": "markdown",
   "metadata": {},
   "source": [
    "Das Resultat ist offensichtlich falsch. Das Problem ist, dass die Trainingsdaten skaliert wurden, der Input aber nicht. Richtige Lösung:"
   ]
  },
  {
   "cell_type": "code",
   "execution_count": 19,
   "metadata": {},
   "outputs": [
    {
     "name": "stdout",
     "output_type": "stream",
     "text": [
      "Resultat: 2 Zimmer\n"
     ]
    }
   ],
   "source": [
    "result = model_with_two_features.predict(scaler.transform(to_predict))\n",
    "print(f'Resultat: {result[0]} Zimmer')"
   ]
  },
  {
   "cell_type": "markdown",
   "metadata": {},
   "source": [
    "Pipelines\n",
    "=========\n",
    "Im obigen Beispiel wurden Daten zuerst transformiert und dann für das Modell verwendet. Anschliessend müssen neue Daten ebenfalls zuerst transformiert werden.\n",
    "Dieses Vorgehen kann in einer Pipeline zusammengefasst werden:"
   ]
  },
  {
   "cell_type": "code",
   "execution_count": 20,
   "metadata": {},
   "outputs": [],
   "source": [
    "from sklearn.pipeline import Pipeline\n",
    "\n",
    "pipeline = Pipeline([\n",
    "    ('scaler', preprocessing.StandardScaler()),\n",
    "    ('model', LogisticRegression()),\n",
    "])"
   ]
  },
  {
   "cell_type": "markdown",
   "metadata": {},
   "source": [
    "Die Pipeline verhält sich genau gleich wie das Modell, nur dass alle Inputs zuerst skaliert werden:"
   ]
  },
  {
   "cell_type": "code",
   "execution_count": 21,
   "metadata": {},
   "outputs": [
    {
     "name": "stdout",
     "output_type": "stream",
     "text": [
      "Resultat: 2 Zimmer\n"
     ]
    }
   ],
   "source": [
    "X = erweiterte_daten[['flaeche', 'mietpreis']]\n",
    "y = erweiterte_daten['zimmer']\n",
    "pipeline.fit(X,y)\n",
    "result = pipeline.predict(to_predict)\n",
    "print(f'Resultat: {result[0]} Zimmer')"
   ]
  },
  {
   "cell_type": "markdown",
   "metadata": {},
   "source": [
    "Bewerten des Modells\n",
    "====================\n",
    "Um das Modell bewerten zu können, teilen wir die bekannten Daten in einen Training- und einen Test-Datensatz auf:"
   ]
  },
  {
   "cell_type": "code",
   "execution_count": 22,
   "metadata": {},
   "outputs": [],
   "source": [
    "from sklearn.model_selection import train_test_split\n",
    "X_train, X_test, y_train, y_test = train_test_split(X, y, random_state=0)"
   ]
  },
  {
   "cell_type": "markdown",
   "metadata": {},
   "source": [
    "Das Modell wird jetzt nur noch mit dem Trainings-Datensatz trainiert, und anschliessend wird mit dem Test-Datensatz geschaut, wie gut das Modell ist"
   ]
  },
  {
   "cell_type": "code",
   "execution_count": 23,
   "metadata": {},
   "outputs": [
    {
     "data": {
      "text/plain": [
       "Pipeline(steps=[('scaler', StandardScaler()), ('model', LogisticRegression())])"
      ]
     },
     "execution_count": 23,
     "metadata": {},
     "output_type": "execute_result"
    }
   ],
   "source": [
    "pipeline.fit(X_train, y_train)"
   ]
  },
  {
   "cell_type": "code",
   "execution_count": 24,
   "metadata": {},
   "outputs": [
    {
     "data": {
      "text/plain": [
       "array([[5, 0, 0, 0, 0, 0],\n",
       "       [1, 5, 0, 0, 0, 0],\n",
       "       [0, 0, 7, 1, 0, 0],\n",
       "       [0, 0, 0, 7, 1, 0],\n",
       "       [0, 0, 0, 0, 8, 0],\n",
       "       [0, 0, 0, 0, 0, 5]], dtype=int64)"
      ]
     },
     "execution_count": 24,
     "metadata": {},
     "output_type": "execute_result"
    }
   ],
   "source": [
    "from sklearn.metrics import confusion_matrix, plot_confusion_matrix\n",
    "predicted_results = pipeline.predict(X_test)\n",
    "cf_matrix = confusion_matrix(y_test, predicted_results)\n",
    "cf_matrix"
   ]
  },
  {
   "cell_type": "code",
   "execution_count": 25,
   "metadata": {},
   "outputs": [
    {
     "data": {
      "text/plain": [
       "<sklearn.metrics._plot.confusion_matrix.ConfusionMatrixDisplay at 0x2269103ed30>"
      ]
     },
     "execution_count": 25,
     "metadata": {},
     "output_type": "execute_result"
    },
    {
     "data": {
      "image/png": "[encoded data removed]",
      "text/plain": [
       "<Figure size 1152x648 with 2 Axes>"
      ]
     },
     "metadata": {},
     "output_type": "display_data"
    }
   ],
   "source": [
    "sns.set_style('white')\n",
    "fig, axis = plt.subplots(figsize=(16,9))\n",
    "plot_confusion_matrix(pipeline, X_test, y_test, ax=axis)"
   ]
  }
 ],
 "metadata": {
  "kernelspec": {
   "display_name": "Python 3 (ipykernel)",
   "language": "python",
   "name": "python3"
  },
  "language_info": {
   "codemirror_mode": {
    "name": "ipython",
    "version": 3
   },
   "file_extension": ".py",
   "mimetype": "text/x-python",
   "name": "python",
   "nbconvert_exporter": "python",
   "pygments_lexer": "ipython3",
   "version": "3.9.1"
  }
 },
 "nbformat": 4,
 "nbformat_minor": 4
}
